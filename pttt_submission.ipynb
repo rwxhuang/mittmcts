{
 "cells": [
  {
   "cell_type": "code",
   "execution_count": 5,
   "metadata": {},
   "outputs": [],
   "source": [
    "import numpy as np\n",
    "import pickle"
   ]
  },
  {
   "cell_type": "markdown",
   "metadata": {},
   "source": [
    "## Get distributions from pkl file"
   ]
  },
  {
   "cell_type": "code",
   "execution_count": 6,
   "metadata": {},
   "outputs": [],
   "source": [
    "with open('data/infoset_prob_dists.pkl', 'rb') as file:\n",
    "    data = pickle.load(file)\n",
    "\n",
    "# Access the individual dictionaries\n",
    "p0_infosets_to_probs = data['p0']\n",
    "p1_infosets_to_probs = data['p1']"
   ]
  },
  {
   "cell_type": "markdown",
   "metadata": {},
   "source": [
    "## Copied from class"
   ]
  },
  {
   "cell_type": "code",
   "execution_count": 11,
   "metadata": {},
   "outputs": [
    {
     "name": "stdout",
     "output_type": "stream",
     "text": [
      "0 done out of 14482810\n",
      "1000000 done out of 14482810\n",
      "2000000 done out of 14482810\n",
      "3000000 done out of 14482810\n",
      "4000000 done out of 14482810\n",
      "5000000 done out of 14482810\n",
      "6000000 done out of 14482810\n",
      "7000000 done out of 14482810\n"
     ]
    }
   ],
   "source": [
    "lines = open('data/player0-infoset.txt').readlines()\n",
    "\n",
    "# Initially, set the tensor with all ones. We will mask out the illegal actions below,\n",
    "# and then we will normalize row-wise just before saving the tensor below.\n",
    "tensor = np.ones((len(lines), 9), dtype=np.float32)\n",
    "for idx, line in enumerate(lines):\n",
    "    line = line.strip() # Remove the \\n\n",
    "    assert line.startswith('|')\n",
    "    if line in p0_infosets_to_probs:\n",
    "        tensor[idx] = p0_infosets_to_probs[line]\n",
    "    n = len(line) - 1\n",
    "    assert n % 2 == 0\n",
    "    n = n // 2\n",
    "\n",
    "    for j in range(n):\n",
    "        pos = line[1 + 2 * j]\n",
    "        outcome = line[2 + 2 * j]\n",
    "        assert outcome in '*.'\n",
    "        assert pos in '012345678'\n",
    "        pos = int(pos)\n",
    "        # Set zero probability to illegal actions. (Remember that we cannot probe a cell\n",
    "        # more than once!)\n",
    "        tensor[idx,pos] = 0\n",
    "    if idx % 1000000 == 0:\n",
    "        print(idx, 'done out of', len(lines))\n",
    "# Renormalize row wise\n",
    "tensor /= np.sum(tensor, axis=1)[:,None]\n",
    "np.save('data/pttt_pl0.npy', tensor)"
   ]
  },
  {
   "cell_type": "code",
   "execution_count": null,
   "metadata": {},
   "outputs": [],
   "source": [
    "lines = open('data/player1-infoset.txt').readlines()\n",
    "\n",
    "# Initially, set the tensor with all ones. We will mask out the illegal actions below,\n",
    "# and then we will normalize row-wise just before saving the tensor below.\n",
    "tensor = np.ones((len(lines), 9), dtype=np.float32)\n",
    "for idx, line in enumerate(lines):\n",
    "    line = line.strip() # Remove the \\n\n",
    "    assert line.startswith('|')\n",
    "    if line in p1_infosets_to_probs:\n",
    "        tensor[idx] = p1_infosets_to_probs[line]\n",
    "    n = len(line) - 1\n",
    "    assert n % 2 == 0\n",
    "    n = n // 2\n",
    "\n",
    "    for j in range(n):\n",
    "        pos = line[1 + 2 * j]\n",
    "        outcome = line[2 + 2 * j]\n",
    "        assert outcome in '*.'\n",
    "        assert pos in '012345678'\n",
    "        pos = int(pos)\n",
    "        # Set zero probability to illegal actions. (Remember that we cannot probe a cell\n",
    "        # more than once!)\n",
    "        tensor[idx,pos] = 0\n",
    "    if idx % 1000000 == 0:\n",
    "        print(idx, 'done out of', len(lines))\n",
    "# Renormalize row wise\n",
    "tensor /= np.sum(tensor, axis=1)[:,None]\n",
    "np.save('data/pttt_pl1.npy', tensor)"
   ]
  }
 ],
 "metadata": {
  "kernelspec": {
   "display_name": ".venv",
   "language": "python",
   "name": "python3"
  },
  "language_info": {
   "codemirror_mode": {
    "name": "ipython",
    "version": 3
   },
   "file_extension": ".py",
   "mimetype": "text/x-python",
   "name": "python",
   "nbconvert_exporter": "python",
   "pygments_lexer": "ipython3",
   "version": "3.12.3"
  }
 },
 "nbformat": 4,
 "nbformat_minor": 2
}
